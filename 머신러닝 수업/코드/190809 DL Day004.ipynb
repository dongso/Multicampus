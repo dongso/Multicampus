{
 "cells": [
  {
   "cell_type": "code",
   "execution_count": 2,
   "metadata": {
    "colab": {
     "base_uri": "https://localhost:8080/",
     "height": 188
    },
    "colab_type": "code",
    "executionInfo": {
     "elapsed": 7492,
     "status": "ok",
     "timestamp": 1565325394308,
     "user": {
      "displayName": "Ji Un Hwang",
      "photoUrl": "",
      "userId": "04494318415747958635"
     },
     "user_tz": -540
    },
    "id": "ZWFBxyg5qZ_c",
    "outputId": "4f8caed3-5520-48d0-8d22-1dcd4fcd695f"
   },
   "outputs": [
    {
     "name": "stdout",
     "output_type": "stream",
     "text": [
      "Collecting konlpy\n",
      "\u001b[?25l  Downloading https://files.pythonhosted.org/packages/e5/3d/4e983cd98d87b50b2ab0387d73fa946f745aa8164e8888a714d5129f9765/konlpy-0.5.1-py2.py3-none-any.whl (19.4MB)\n",
      "\u001b[K     |████████████████████████████████| 19.4MB 1.3MB/s \n",
      "\u001b[?25hCollecting JPype1>=0.5.7 (from konlpy)\n",
      "\u001b[?25l  Downloading https://files.pythonhosted.org/packages/07/09/e19ce27d41d4f66d73ac5b6c6a188c51b506f56c7bfbe6c1491db2d15995/JPype1-0.7.0-cp36-cp36m-manylinux2010_x86_64.whl (2.7MB)\n",
      "\u001b[K     |████████████████████████████████| 2.7MB 34.1MB/s \n",
      "\u001b[?25hInstalling collected packages: JPype1, konlpy\n",
      "Successfully installed JPype1-0.7.0 konlpy-0.5.1\n"
     ]
    }
   ],
   "source": [
    "!pip install konlpy"
   ]
  },
  {
   "cell_type": "code",
   "execution_count": 3,
   "metadata": {
    "colab": {},
    "colab_type": "code",
    "id": "nHbc0mRfs094"
   },
   "outputs": [],
   "source": [
    "from konlpy.tag import Okt\n",
    "import re\n",
    "from sklearn.feature_extraction.text import CountVectorizer\n",
    "from sklearn.feature_extraction.text import TfidfVectorizer\n",
    "from sklearn.datasets import fetch_20newsgroups\n",
    "from sklearn.feature_extraction import TfidfTransformer\n",
    "from sklearn.naive_bayes import MultinomialNB\n",
    "from sklearn.metrics import accuracy_score"
   ]
  },
  {
   "cell_type": "markdown",
   "metadata": {
    "colab_type": "text",
    "id": "R2um7-w8pn-X"
   },
   "source": [
    "# Bag Of Words (BOW)\n",
    "\n",
    "Bag Of Words (BOW): 단어들의 등장 횟수로 표현 (단어가방)\n",
    "\n",
    "## BOW 만드는 과정\n",
    "1. 주어진 단어에 대해 고유의 인덱스 부여\n",
    "2. 단어의 등장 횟수 벡터 생성"
   ]
  },
  {
   "cell_type": "code",
   "execution_count": 3,
   "metadata": {
    "colab": {
     "base_uri": "https://localhost:8080/",
     "height": 206
    },
    "colab_type": "code",
    "executionInfo": {
     "elapsed": 1792,
     "status": "ok",
     "timestamp": 1565325402242,
     "user": {
      "displayName": "Ji Un Hwang",
      "photoUrl": "",
      "userId": "04494318415747958635"
     },
     "user_tz": -540
    },
    "id": "J_Pjr2eMplRL",
    "outputId": "fd1f9863-ebe5-4d9e-ab34-082348d5317d"
   },
   "outputs": [
    {
     "name": "stderr",
     "output_type": "stream",
     "text": [
      "/usr/local/lib/python3.6/dist-packages/jpype/_core.py:210: UserWarning: \n",
      "-------------------------------------------------------------------------------\n",
      "Deprecated: convertStrings was not specified when starting the JVM. The default\n",
      "behavior in JPype will be False starting in JPype 0.8. The recommended setting\n",
      "for new code is convertStrings=False.  The legacy value of True was assumed for\n",
      "this session. If you are a user of an application that reported this warning,\n",
      "please file a ticket with the developer.\n",
      "-------------------------------------------------------------------------------\n",
      "\n",
      "  \"\"\")\n"
     ]
    }
   ],
   "source": [
    "from konlpy.tag import Okt\n",
    "okt = Okt()"
   ]
  },
  {
   "cell_type": "code",
   "execution_count": 19,
   "metadata": {
    "colab": {
     "base_uri": "https://localhost:8080/",
     "height": 36
    },
    "colab_type": "code",
    "executionInfo": {
     "elapsed": 526,
     "status": "ok",
     "timestamp": 1565326262823,
     "user": {
      "displayName": "Ji Un Hwang",
      "photoUrl": "",
      "userId": "04494318415747958635"
     },
     "user_tz": -540
    },
    "id": "xrZWYmuSplUx",
    "outputId": "2301c56d-7c42-4089-e9fe-c137b8a3f53b"
   },
   "outputs": [
    {
     "data": {
      "text/plain": [
       "'오늘은 금요일입니다 내일은 토요일입니다 다음주 화요일에는 특강이 있습니다'"
      ]
     },
     "execution_count": 19,
     "metadata": {
      "tags": []
     },
     "output_type": "execute_result"
    }
   ],
   "source": [
    "token = \"오늘은 금요일입니다. 내일은 토요일입니다. 다음주 화요일에는 특강이 있습니다.\"\n",
    "# 정규표현식 사용하여 token에 저장된 문자 중에서 (.)을 제거하세요\n",
    "import re\n",
    "token = re.sub(\"\\.\", \"\", token)\n",
    "token"
   ]
  },
  {
   "cell_type": "code",
   "execution_count": 20,
   "metadata": {
    "colab": {
     "base_uri": "https://localhost:8080/",
     "height": 281
    },
    "colab_type": "code",
    "executionInfo": {
     "elapsed": 479,
     "status": "ok",
     "timestamp": 1565326264295,
     "user": {
      "displayName": "Ji Un Hwang",
      "photoUrl": "",
      "userId": "04494318415747958635"
     },
     "user_tz": -540
    },
    "id": "W0dR17Meplbm",
    "outputId": "725ed51d-6d9d-4814-83ab-fa58537f1c30"
   },
   "outputs": [
    {
     "data": {
      "text/plain": [
       "['오늘',\n",
       " '은',\n",
       " '금요일',\n",
       " '입니다',\n",
       " '내일',\n",
       " '은',\n",
       " '토요일',\n",
       " '입니다',\n",
       " '다음주',\n",
       " '화요일',\n",
       " '에는',\n",
       " '특강',\n",
       " '이',\n",
       " '있습니다']"
      ]
     },
     "execution_count": 20,
     "metadata": {
      "tags": []
     },
     "output_type": "execute_result"
    }
   ],
   "source": [
    "token = okt.morphs(token)\n",
    "token"
   ]
  },
  {
   "cell_type": "markdown",
   "metadata": {
    "colab_type": "text",
    "id": "Z_g_S9VOr1ON"
   },
   "source": [
    "## BOW 만들기"
   ]
  },
  {
   "cell_type": "code",
   "execution_count": 0,
   "metadata": {
    "colab": {},
    "colab_type": "code",
    "id": "-H3y0r3mple0"
   },
   "outputs": [],
   "source": [
    "token_indices = {}\n",
    "idx = 0\n",
    "token_freq = []\n",
    "\n",
    "for i in range(len(token)):\n",
    "\n",
    "  # 주어진 단어에 대해 고유의 인덱스 부여\n",
    "  if token[i] not in token_indices:\n",
    "    idx += 1\n",
    "    token_indices[token[i]]=idx\n",
    "  # 단어의 등장 횟수 벡터 생성 (미완)"
   ]
  },
  {
   "cell_type": "code",
   "execution_count": 22,
   "metadata": {
    "colab": {
     "base_uri": "https://localhost:8080/",
     "height": 243
    },
    "colab_type": "code",
    "executionInfo": {
     "elapsed": 546,
     "status": "ok",
     "timestamp": 1565326295175,
     "user": {
      "displayName": "Ji Un Hwang",
      "photoUrl": "",
      "userId": "04494318415747958635"
     },
     "user_tz": -540
    },
    "id": "7kuK8CxrpliO",
    "outputId": "f5eb6e11-64ae-4426-cb2a-41641dbfc0a5"
   },
   "outputs": [
    {
     "data": {
      "text/plain": [
       "{'금요일': 3,\n",
       " '내일': 5,\n",
       " '다음주': 7,\n",
       " '에는': 9,\n",
       " '오늘': 1,\n",
       " '은': 2,\n",
       " '이': 11,\n",
       " '입니다': 4,\n",
       " '있습니다': 12,\n",
       " '토요일': 6,\n",
       " '특강': 10,\n",
       " '화요일': 8}"
      ]
     },
     "execution_count": 22,
     "metadata": {
      "tags": []
     },
     "output_type": "execute_result"
    }
   ],
   "source": [
    "token_indices"
   ]
  },
  {
   "cell_type": "code",
   "execution_count": 23,
   "metadata": {
    "colab": {
     "base_uri": "https://localhost:8080/",
     "height": 75
    },
    "colab_type": "code",
    "executionInfo": {
     "elapsed": 629,
     "status": "ok",
     "timestamp": 1565326458804,
     "user": {
      "displayName": "Ji Un Hwang",
      "photoUrl": "",
      "userId": "04494318415747958635"
     },
     "user_tz": -540
    },
    "id": "nWHQmdEGpllF",
    "outputId": "1d8bf1f9-3639-445f-ca3d-d9050e0a94c2"
   },
   "outputs": [
    {
     "name": "stdout",
     "output_type": "stream",
     "text": [
      "{'오늘': 0, '은': 1, '금요일': 2, '입니다': 3, '내일': 4, '토요일': 5, '다음주': 6, '화요일': 7, '에는': 8, '특강': 9, '이': 10, '있습니다': 11}\n",
      "[1, 2, 1, 2, 1, 1, 1, 1, 1, 1, 1, 1]\n"
     ]
    }
   ],
   "source": [
    "# 강사님 코딩\n",
    "\n",
    "word2index = {}\n",
    "bow = []\n",
    "\n",
    "for voc in token:\n",
    "  if voc not in word2index.keys():\n",
    "    word2index[voc] = len(word2index)\n",
    "    bow.insert(len(word2index)-1, 1)\n",
    "  else:\n",
    "    index = word2index.get(voc)\n",
    "    bow[index] = bow[index] + 1\n",
    "\n",
    "print(word2index)\n",
    "print(bow)"
   ]
  },
  {
   "cell_type": "markdown",
   "metadata": {
    "colab_type": "text",
    "id": "Vy2_gpUt1vXn"
   },
   "source": [
    "## CountVectorizer"
   ]
  },
  {
   "cell_type": "code",
   "execution_count": 0,
   "metadata": {
    "colab": {},
    "colab_type": "code",
    "id": "6COzD9pJplrj"
   },
   "outputs": [],
   "source": [
    "from sklearn.feature_extraction.text import CountVectorizer"
   ]
  },
  {
   "cell_type": "code",
   "execution_count": 28,
   "metadata": {
    "colab": {
     "base_uri": "https://localhost:8080/",
     "height": 36
    },
    "colab_type": "code",
    "executionInfo": {
     "elapsed": 481,
     "status": "ok",
     "timestamp": 1565326814780,
     "user": {
      "displayName": "Ji Un Hwang",
      "photoUrl": "",
      "userId": "04494318415747958635"
     },
     "user_tz": -540
    },
    "id": "ub2aT3ueplu8",
    "outputId": "0883db0a-9dc1-4a7a-de06-f9a7ab0b6a64"
   },
   "outputs": [
    {
     "name": "stdout",
     "output_type": "stream",
     "text": [
      "{'you': 4, 'know': 1, 'want': 3, 'your': 5, 'love': 2, 'because': 0}\n"
     ]
    }
   ],
   "source": [
    "text = [\"you know I want your love. because I love you.\"]\n",
    "vec = CountVectorizer()    # CountVectorizer(): BOW를 만들어주는 클래스\n",
    "vec.fit_transform(text)    # fit_transform함수가 주어진 텍스트를 BOW로 변환    # 각 단어별 개수를 세면서 변환\n",
    "print(vec.vocabulary_)"
   ]
  },
  {
   "cell_type": "code",
   "execution_count": 30,
   "metadata": {
    "colab": {
     "base_uri": "https://localhost:8080/",
     "height": 36
    },
    "colab_type": "code",
    "executionInfo": {
     "elapsed": 508,
     "status": "ok",
     "timestamp": 1565326882370,
     "user": {
      "displayName": "Ji Un Hwang",
      "photoUrl": "",
      "userId": "04494318415747958635"
     },
     "user_tz": -540
    },
    "id": "U1H8KSSHpl0l",
    "outputId": "048f859a-4555-4347-b88d-024e08c55145"
   },
   "outputs": [
    {
     "data": {
      "text/plain": [
       "array([[1, 1, 2, 1, 2, 1]])"
      ]
     },
     "execution_count": 30,
     "metadata": {
      "tags": []
     },
     "output_type": "execute_result"
    }
   ],
   "source": [
    "text = [\"you know I want your love. because I love you.\"]\n",
    "vec = CountVectorizer()\n",
    "vec.fit_transform(text).toarray()"
   ]
  },
  {
   "cell_type": "code",
   "execution_count": 31,
   "metadata": {
    "colab": {
     "base_uri": "https://localhost:8080/",
     "height": 55
    },
    "colab_type": "code",
    "executionInfo": {
     "elapsed": 653,
     "status": "ok",
     "timestamp": 1565326908645,
     "user": {
      "displayName": "Ji Un Hwang",
      "photoUrl": "",
      "userId": "04494318415747958635"
     },
     "user_tz": -540
    },
    "id": "SwCkAONfpl3t",
    "outputId": "46b36f37-2876-4b6c-9598-53f916bad6e6"
   },
   "outputs": [
    {
     "name": "stdout",
     "output_type": "stream",
     "text": [
      "[[1 1 2 1 2 1]]\n",
      "{'you': 4, 'know': 1, 'want': 3, 'your': 5, 'love': 2, 'because': 0}\n"
     ]
    }
   ],
   "source": [
    "text = [\"you know I want your love. because I love you.\"]\n",
    "vec = CountVectorizer()\n",
    "print(vec.fit_transform(text).toarray())    # 각 인덱스 넘버에 해당하는 토큰이 몇 번 등장하는지 횟수\n",
    "print(vec.vocabulary_)     # 각 토큰과 그 토큰의 인덱스 넘버 (인덱스 넘보는 단어 등장 순서와 일치하지는 않는다, 아마 알파벳 순서)\n",
    "# 예를 들어 본 예시에서는 0번 인덱스인 \"because\"가 1번 등장, 1번 인덱스인 \"know\"가 1번 등장, 2번 인덱스인 \"love\"가 2번 등장, ..."
   ]
  },
  {
   "cell_type": "code",
   "execution_count": 36,
   "metadata": {
    "colab": {
     "base_uri": "https://localhost:8080/",
     "height": 55
    },
    "colab_type": "code",
    "executionInfo": {
     "elapsed": 478,
     "status": "ok",
     "timestamp": 1565327117031,
     "user": {
      "displayName": "Ji Un Hwang",
      "photoUrl": "",
      "userId": "04494318415747958635"
     },
     "user_tz": -540
    },
    "id": "O1KIu83hpl6j",
    "outputId": "d91f3e58-4c38-4e66-80bb-e914de24bd0c"
   },
   "outputs": [
    {
     "name": "stdout",
     "output_type": "stream",
     "text": [
      "[[1 2 1]]\n",
      "{'know': 0, 'want': 2, 'love': 1}\n"
     ]
    }
   ],
   "source": [
    "text = [\"you know I want your love. because I love you.\"]\n",
    "# vec = CountVectorizer(stop_words=[\"I\"])    # 불용어 사용 (사용자 정의)\n",
    "vec = CountVectorizer(stop_words=\"english\")    # 불용어 사용 (기존 불용어 사전 사용)\n",
    "print(vec.fit_transform(text).toarray())\n",
    "print(vec.vocabulary_)"
   ]
  },
  {
   "cell_type": "markdown",
   "metadata": {
    "colab_type": "text",
    "id": "gOVo32MS2lkH"
   },
   "source": [
    "# 문장간 유사도 조사\n",
    "\n",
    "(1, target) 오늘 역삼에서 맛있는 돈가스를 먹었다.\n",
    "\n",
    "(2, source) 역삼에서 먹었던 오늘의 돈가스는 맛있었다.\n",
    "\n",
    "두 문장의 유사도를 구하면? (n-gram을 이용하여)\n",
    "\n",
    "예: n=2라면\n",
    "* \"오늘\", \"늘 \", \" 역\", \"역삼\", \"삼에\", ... , \"다.\"\n",
    "* \"역삼\", \"삼에\", \"에서\", \"서 \", \" 먹\", ... , \"다.\"\n",
    "\n",
    "(2)번 원문장에 대해 (1)번 대상문장이 어느 정도 유사한지 출력?\n",
    "\n",
    "=> (1)번 문장을 n=2로 하여 문장 분리한 길이가 20이라 가정하고, (2)번 원문장에 대해서도 n=2로 하여 문장 분리했을 때 공통으로 존재하는 단어가 5개라면, 5/20 = 25%의 유사도를 갖는다."
   ]
  },
  {
   "cell_type": "code",
   "execution_count": 0,
   "metadata": {
    "colab": {},
    "colab_type": "code",
    "id": "XxXqOdhtpl9n"
   },
   "outputs": [],
   "source": [
    "t_text = \"오늘 역삼에서 맛있는 돈가스를 먹었다.\"\n",
    "s_text = \"역삼에서 먹었던 오늘의 돈가스는 맛있었다.\""
   ]
  },
  {
   "cell_type": "code",
   "execution_count": 0,
   "metadata": {
    "colab": {},
    "colab_type": "code",
    "id": "mnuOptA_pmAs"
   },
   "outputs": [],
   "source": [
    "def text_similarity(target, source, n):    # n-gram으로 나눌 때 문장 유사도\n",
    "  \n",
    "  #n-gram으로 나누기\n",
    "  tL = []\n",
    "  sL = []  \n",
    "  for i in range(len(target)-(n-1)):\n",
    "    tL.append(target[i:i+n])\n",
    "  for i in range(len(source)-(n-1)):\n",
    "    sL.append(source[i:i+n])\n",
    "  \n",
    "  # 유사도 구하기\n",
    "  num_common = 0\n",
    "  sim = 0\n",
    "  for i in range(len(tL)):\n",
    "    if tL[i] in sL:\n",
    "      num_common += 1\n",
    "  sim = num_common / len(tL)\n",
    "\n",
    "  return sim"
   ]
  },
  {
   "cell_type": "code",
   "execution_count": 48,
   "metadata": {
    "colab": {
     "base_uri": "https://localhost:8080/",
     "height": 36
    },
    "colab_type": "code",
    "executionInfo": {
     "elapsed": 505,
     "status": "ok",
     "timestamp": 1565329719190,
     "user": {
      "displayName": "Ji Un Hwang",
      "photoUrl": "",
      "userId": "04494318415747958635"
     },
     "user_tz": -540
    },
    "id": "bab0ZtM6pmGt",
    "outputId": "1d095b5c-1f91-446b-d104-3940f6c412a5"
   },
   "outputs": [
    {
     "data": {
      "text/plain": [
       "0.75"
      ]
     },
     "execution_count": 48,
     "metadata": {
      "tags": []
     },
     "output_type": "execute_result"
    }
   ],
   "source": [
    "text_similarity(t_text, s_text, 2)"
   ]
  },
  {
   "cell_type": "code",
   "execution_count": 49,
   "metadata": {
    "colab": {
     "base_uri": "https://localhost:8080/",
     "height": 36
    },
    "colab_type": "code",
    "executionInfo": {
     "elapsed": 524,
     "status": "ok",
     "timestamp": 1565329720768,
     "user": {
      "displayName": "Ji Un Hwang",
      "photoUrl": "",
      "userId": "04494318415747958635"
     },
     "user_tz": -540
    },
    "id": "9OSzF7PJpmJ2",
    "outputId": "60a05127-4266-4523-fba0-945d8077997a"
   },
   "outputs": [
    {
     "data": {
      "text/plain": [
       "0.42105263157894735"
      ]
     },
     "execution_count": 49,
     "metadata": {
      "tags": []
     },
     "output_type": "execute_result"
    }
   ],
   "source": [
    "text_similarity(t_text, s_text, 3)"
   ]
  },
  {
   "cell_type": "markdown",
   "metadata": {
    "colab_type": "text",
    "id": "8YOE3SdP_VuY"
   },
   "source": [
    "# tf-idf"
   ]
  },
  {
   "cell_type": "code",
   "execution_count": 0,
   "metadata": {
    "colab": {},
    "colab_type": "code",
    "id": "80rINJqapmNO"
   },
   "outputs": [],
   "source": [
    "from sklearn.feature_extraction.text import CountVectorizer"
   ]
  },
  {
   "cell_type": "code",
   "execution_count": 0,
   "metadata": {
    "colab": {},
    "colab_type": "code",
    "id": "LEfAKJZc66aB"
   },
   "outputs": [],
   "source": [
    "corpus = [\"you know I want your love\",\n",
    "          \"I like you\",\n",
    "          \"what should I do\"]"
   ]
  },
  {
   "cell_type": "markdown",
   "metadata": {
    "colab_type": "text",
    "id": "OyhkbYbD_vAi"
   },
   "source": [
    "## DTM 생성"
   ]
  },
  {
   "cell_type": "code",
   "execution_count": 0,
   "metadata": {
    "colab": {},
    "colab_type": "code",
    "id": "rCA3GFIo66fq"
   },
   "outputs": [],
   "source": [
    "vec = CountVectorizer()"
   ]
  },
  {
   "cell_type": "code",
   "execution_count": 54,
   "metadata": {
    "colab": {
     "base_uri": "https://localhost:8080/",
     "height": 92
    },
    "colab_type": "code",
    "executionInfo": {
     "elapsed": 426,
     "status": "ok",
     "timestamp": 1565331077702,
     "user": {
      "displayName": "Ji Un Hwang",
      "photoUrl": "",
      "userId": "04494318415747958635"
     },
     "user_tz": -540
    },
    "id": "Zg162SMu66jD",
    "outputId": "47f7b5a0-7e5c-437a-bb72-5da99cf4eb04"
   },
   "outputs": [
    {
     "name": "stdout",
     "output_type": "stream",
     "text": [
      "[[0 1 0 1 0 1 0 1 1]\n",
      " [0 0 1 0 0 0 0 1 0]\n",
      " [1 0 0 0 1 0 1 0 0]]\n",
      "{'you': 7, 'know': 1, 'want': 5, 'your': 8, 'love': 3, 'like': 2, 'what': 6, 'should': 4, 'do': 0}\n"
     ]
    }
   ],
   "source": [
    "print(vec.fit_transform(corpus).toarray())\n",
    "print(vec.vocabulary_)"
   ]
  },
  {
   "cell_type": "markdown",
   "metadata": {
    "colab_type": "text",
    "id": "vdFMH9SuArdw"
   },
   "source": [
    "## tf-idf 구하기"
   ]
  },
  {
   "cell_type": "code",
   "execution_count": 55,
   "metadata": {
    "colab": {
     "base_uri": "https://localhost:8080/",
     "height": 338
    },
    "colab_type": "code",
    "executionInfo": {
     "elapsed": 550,
     "status": "ok",
     "timestamp": 1565331355844,
     "user": {
      "displayName": "Ji Un Hwang",
      "photoUrl": "",
      "userId": "04494318415747958635"
     },
     "user_tz": -540
    },
    "id": "y6Neczhu666Y",
    "outputId": "9924be82-8852-41bf-87f4-59fb0cffff3c"
   },
   "outputs": [
    {
     "name": "stdout",
     "output_type": "stream",
     "text": [
      "==================================================\n",
      "TfidfVectorizer(analyzer='word', binary=False, decode_error='strict',\n",
      "                dtype=<class 'numpy.float64'>, encoding='utf-8',\n",
      "                input='content', lowercase=True, max_df=1.0, max_features=None,\n",
      "                min_df=1, ngram_range=(1, 1), norm='l2', preprocessor=None,\n",
      "                smooth_idf=True, stop_words=None, strip_accents=None,\n",
      "                sublinear_tf=False, token_pattern='(?u)\\\\b\\\\w\\\\w+\\\\b',\n",
      "                tokenizer=None, use_idf=True, vocabulary=None)\n",
      "==================================================\n",
      "[[0.         0.46735098 0.         0.46735098 0.         0.46735098\n",
      "  0.         0.35543247 0.46735098]\n",
      " [0.         0.         0.79596054 0.         0.         0.\n",
      "  0.         0.60534851 0.        ]\n",
      " [0.57735027 0.         0.         0.         0.57735027 0.\n",
      "  0.57735027 0.         0.        ]]\n",
      "==================================================\n",
      "{'you': 7, 'know': 1, 'want': 5, 'your': 8, 'love': 3, 'like': 2, 'what': 6, 'should': 4, 'do': 0}\n"
     ]
    }
   ],
   "source": [
    "from sklearn.feature_extraction.text import TfidfVectorizer\n",
    "tfidfv = TfidfVectorizer().fit(corpus)\n",
    "print(\"=\" * 50)\n",
    "print(tfidfv)\n",
    "print(\"=\" * 50)\n",
    "print(tfidfv.transform(corpus).toarray())\n",
    "print(\"=\" * 50)\n",
    "print(tfidfv.vocabulary_)"
   ]
  },
  {
   "cell_type": "markdown",
   "metadata": {
    "colab_type": "text",
    "id": "IX0UtE-rHwSc"
   },
   "source": [
    "# 베이시안(Bayesian) 분류기"
   ]
  },
  {
   "cell_type": "code",
   "execution_count": 2,
   "metadata": {
    "colab": {},
    "colab_type": "code",
    "id": "tATZqWgpBI9Z"
   },
   "outputs": [],
   "source": [
    "from sklearn.datasets import fetch_20newsgroups"
   ]
  },
  {
   "cell_type": "code",
   "execution_count": 4,
   "metadata": {
    "colab": {
     "base_uri": "https://localhost:8080/",
     "height": 206
    },
    "colab_type": "code",
    "executionInfo": {
     "elapsed": 1664,
     "status": "ok",
     "timestamp": 1565333160836,
     "user": {
      "displayName": "Ji Un Hwang",
      "photoUrl": "",
      "userId": "04494318415747958635"
     },
     "user_tz": -540
    },
    "id": "3dDjL5cn669a",
    "outputId": "8b260304-2a8e-45f9-de79-82863f2ed166"
   },
   "outputs": [
    {
     "name": "stderr",
     "output_type": "stream",
     "text": [
      "Downloading 20news dataset. This may take a few minutes.\n",
      "Downloading dataset from https://ndownloader.figshare.com/files/5975967 (14 MB)\n",
      "IOPub data rate exceeded.\n",
      "The notebook server will temporarily stop sending output\n",
      "to the client in order to avoid crashing it.\n",
      "To change this limit, set the config variable\n",
      "`--NotebookApp.iopub_data_rate_limit`.\n",
      "\n",
      "Current values:\n",
      "NotebookApp.iopub_data_rate_limit=1000000.0 (bytes/sec)\n",
      "NotebookApp.rate_limit_window=3.0 (secs)\n",
      "\n"
     ]
    }
   ],
   "source": [
    "newsdata = fetch_20newsgroups(subset=\"train\")\n",
    "print(newsdata)"
   ]
  },
  {
   "cell_type": "code",
   "execution_count": 11,
   "metadata": {
    "colab": {},
    "colab_type": "code",
    "id": "QcA-GqUi67AS"
   },
   "outputs": [
    {
     "name": "stdout",
     "output_type": "stream",
     "text": [
      "dict_keys(['data', 'filenames', 'target_names', 'target', 'DESCR'])\n",
      "11314 11314 20\n",
      "['alt.atheism', 'comp.graphics', 'comp.os.ms-windows.misc', 'comp.sys.ibm.pc.hardware', 'comp.sys.mac.hardware', 'comp.windows.x', 'misc.forsale', 'rec.autos', 'rec.motorcycles', 'rec.sport.baseball', 'rec.sport.hockey', 'sci.crypt', 'sci.electronics', 'sci.med', 'sci.space', 'soc.religion.christian', 'talk.politics.guns', 'talk.politics.mideast', 'talk.politics.misc', 'talk.religion.misc']\n",
      "7\n",
      "rec.autos\n"
     ]
    }
   ],
   "source": [
    "print(newsdata.keys())\n",
    "print(len(newsdata.data), len(newsdata.filenames), len(newsdata.target_names))\n",
    "print(newsdata.target_names)\n",
    "print(newsdata.target[0])\n",
    "print(newsdata.target_names[7])"
   ]
  },
  {
   "cell_type": "code",
   "execution_count": 13,
   "metadata": {
    "colab": {},
    "colab_type": "code",
    "id": "CAYGvPYf67IY"
   },
   "outputs": [
    {
     "name": "stdout",
     "output_type": "stream",
     "text": [
      "From: guykuo@carson.u.washington.edu (Guy Kuo)\n",
      "Subject: SI Clock Poll - Final Call\n",
      "Summary: Final call for SI clock reports\n",
      "Keywords: SI,acceleration,clock,upgrade\n",
      "Article-I.D.: shelley.1qvfo9INNc3s\n",
      "Organization: University of Washington\n",
      "Lines: 11\n",
      "NNTP-Posting-Host: carson.u.washington.edu\n",
      "\n",
      "A fair number of brave souls who upgraded their SI clock oscillator have\n",
      "shared their experiences for this poll. Please send a brief message detailing\n",
      "your experiences with the procedure. Top speed attained, CPU rated speed,\n",
      "add on cards and adapters, heat sinks, hour of usage per day, floppy disk\n",
      "functionality with 800 and 1.4 m floppies are especially requested.\n",
      "\n",
      "I will be summarizing in the next two days, so please add to the network\n",
      "knowledge base if you have done the clock upgrade and haven't answered this\n",
      "poll. Thanks.\n",
      "\n",
      "Guy Kuo <guykuo@u.washington.edu>\n",
      "\n"
     ]
    }
   ],
   "source": [
    "print(newsdata.data[1])"
   ]
  },
  {
   "cell_type": "code",
   "execution_count": 14,
   "metadata": {
    "colab": {},
    "colab_type": "code",
    "id": "0JOrla_K67La"
   },
   "outputs": [
    {
     "name": "stdout",
     "output_type": "stream",
     "text": [
      "4\n"
     ]
    }
   ],
   "source": [
    "print(newsdata.target[1])    # target은 데이터가 어떤 종류인지 번호로 분류    # data[1]의 target이 4번"
   ]
  },
  {
   "cell_type": "code",
   "execution_count": 15,
   "metadata": {
    "colab": {},
    "colab_type": "code",
    "id": "ZmwAVfxl67PV"
   },
   "outputs": [
    {
     "name": "stdout",
     "output_type": "stream",
     "text": [
      "comp.sys.mac.hardware\n"
     ]
    }
   ],
   "source": [
    "print(newsdata.target_names[4])    # target name은 각 분류의 이름    # target 4의 target name이 comp.sys.mac.hardward"
   ]
  },
  {
   "cell_type": "code",
   "execution_count": 17,
   "metadata": {
    "colab": {},
    "colab_type": "code",
    "id": "gG-XxaIA67R0"
   },
   "outputs": [
    {
     "name": "stdout",
     "output_type": "stream",
     "text": [
      "dict_keys(['data', 'filenames', 'target_names', 'target', 'DESCR'])\n",
      "5\n"
     ]
    }
   ],
   "source": [
    "testdata = fetch_20newsgroups(subset=\"test\")\n",
    "print(testdata.keys())\n",
    "print(len(testdata))"
   ]
  },
  {
   "cell_type": "markdown",
   "metadata": {
    "colab": {},
    "colab_type": "code",
    "id": "dDhwXGis67fu"
   },
   "source": [
    "## 1. 텍스트 -> BOW 생성"
   ]
  },
  {
   "cell_type": "code",
   "execution_count": 18,
   "metadata": {
    "colab": {},
    "colab_type": "code",
    "id": "3wpFH9JY67mX"
   },
   "outputs": [
    {
     "data": {
      "text/plain": [
       "(11314, 130107)"
      ]
     },
     "execution_count": 18,
     "metadata": {},
     "output_type": "execute_result"
    }
   ],
   "source": [
    "dtmVector = CountVectorizer()\n",
    "xtrainDtm = dtmVector.fit_transform(newsdata.data)\n",
    "xtrainDtm.shape"
   ]
  },
  {
   "cell_type": "markdown",
   "metadata": {
    "colab": {},
    "colab_type": "code",
    "id": "IXuCByHR67qG"
   },
   "source": [
    "## 2. DTM -> tf-idf 행렬로 변환"
   ]
  },
  {
   "cell_type": "code",
   "execution_count": 22,
   "metadata": {
    "colab": {},
    "colab_type": "code",
    "id": "CYuO0sQO67tw"
   },
   "outputs": [],
   "source": [
    "from sklearn.feature_extraction.text import TfidfTransformer\n",
    "tfidf_transformer = TfidfTransformer()\n",
    "tfidfv = tfidf_transformer.fit_transform(xtrainDtm)"
   ]
  },
  {
   "cell_type": "markdown",
   "metadata": {},
   "source": [
    "## 3. 나이브베이즈 분류기 모델 생성"
   ]
  },
  {
   "cell_type": "code",
   "execution_count": 24,
   "metadata": {},
   "outputs": [
    {
     "data": {
      "text/plain": [
       "MultinomialNB(alpha=1.0, class_prior=None, fit_prior=True)"
      ]
     },
     "execution_count": 24,
     "metadata": {},
     "output_type": "execute_result"
    }
   ],
   "source": [
    "from sklearn.naive_bayes import MultinomialNB\n",
    "model = MultinomialNB()\n",
    "model.fit(tfidfv, newsdata.target)    # alpha가 라플라스 스무딩 값"
   ]
  },
  {
   "cell_type": "markdown",
   "metadata": {},
   "source": [
    "### 만들어진 모델로 test data 돌려보고 정확도 측정하기"
   ]
  },
  {
   "cell_type": "code",
   "execution_count": 27,
   "metadata": {},
   "outputs": [],
   "source": [
    "testdata = fetch_20newsgroups(subset=\"test\", shuffle=True)"
   ]
  },
  {
   "cell_type": "code",
   "execution_count": 28,
   "metadata": {},
   "outputs": [],
   "source": [
    "# BOW 생성\n",
    "xtestDtm = dtmVector.transform(testdata.data)\n",
    "# DTM -> tf-idf 행렬로 변환\n",
    "tfidf_test = tfidf_transformer.transform(xtestDtm)"
   ]
  },
  {
   "cell_type": "code",
   "execution_count": 30,
   "metadata": {},
   "outputs": [
    {
     "name": "stdout",
     "output_type": "stream",
     "text": [
      "정확도:  0.7738980350504514\n"
     ]
    }
   ],
   "source": [
    "from sklearn.metrics import accuracy_score\n",
    "\n",
    "predicted = model.predict(tfidf_test)\n",
    "print(\"정확도: \", accuracy_score(testdata.target, predicted))"
   ]
  }
 ],
 "metadata": {
  "colab": {
   "collapsed_sections": [],
   "name": "190809 DL Day004.ipynb",
   "provenance": [],
   "version": "0.3.2"
  },
  "kernelspec": {
   "display_name": "Python 3",
   "language": "python",
   "name": "python3"
  },
  "language_info": {
   "codemirror_mode": {
    "name": "ipython",
    "version": 3
   },
   "file_extension": ".py",
   "mimetype": "text/x-python",
   "name": "python",
   "nbconvert_exporter": "python",
   "pygments_lexer": "ipython3",
   "version": "3.7.3"
  }
 },
 "nbformat": 4,
 "nbformat_minor": 1
}
