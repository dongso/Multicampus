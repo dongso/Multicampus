{
 "cells": [
  {
   "cell_type": "code",
   "execution_count": 1,
   "metadata": {},
   "outputs": [],
   "source": [
    "import numpy as np\n",
    "import pandas as pd\n",
    "from math import sqrt\n",
    "import matplotlib.pyplot as plt\n",
    "import seaborn as sns"
   ]
  },
  {
   "cell_type": "code",
   "execution_count": 2,
   "metadata": {},
   "outputs": [],
   "source": [
    "# 경고 미출력 및 한글 안깨지는 코드\n",
    "import matplotlib\n",
    "from matplotlib import font_manager, rc\n",
    "import platform\n",
    "if platform.system()==\"Windows\":\n",
    "    font_name=font_manager.FontProperties(fname=\"c:/Windows/Fonts/malgun.ttf\").get_name()\n",
    "    rc('font', family=font_name)\n",
    "matplotlib.rcParams['axes.unicode_minus']=False\n",
    "\n",
    "import warnings\n",
    "warnings.filterwarnings(\"ignore\")"
   ]
  },
  {
   "cell_type": "markdown",
   "metadata": {},
   "source": [
    "# 연습문제1: 추천시스템"
   ]
  },
  {
   "cell_type": "code",
   "execution_count": 3,
   "metadata": {},
   "outputs": [],
   "source": [
    "critics = {\n",
    "    '조용필': {\n",
    "        '택시운전사': 2.5,\n",
    "        '겨울왕국': 3.5,\n",
    "        '리빙라스베가스': 3.0,\n",
    "        '넘버3': 3.5,\n",
    "        '사랑과전쟁': 2.5,\n",
    "        '세계대전': 3.0,\n",
    "    },\n",
    "    'BTS': {\n",
    "        '택시운전사': 1.0,\n",
    "        '겨울왕국': 4.5,\n",
    "        '리빙라스베가스': 0.5,\n",
    "        '넘버3': 1.5,\n",
    "        '사랑과전쟁': 4.5,\n",
    "        '세계대전': 5.0,\n",
    "    },\n",
    "    '강감찬': {\n",
    "        '택시운전사': 3.0,\n",
    "        '겨울왕국': 3.5,\n",
    "        '리빙라스베가스': 1.5,\n",
    "        '넘버3': 5.0,\n",
    "        '세계대전': 3.0,\n",
    "        '사랑과전쟁': 3.5,\n",
    "    },\n",
    "    '을지문덕': {\n",
    "        '택시운전사': 2.5,\n",
    "        '겨울왕국': 3.0,\n",
    "        '넘버3': 3.5,\n",
    "        '세계대전': 4.0,\n",
    "    },\n",
    "    '김유신': {\n",
    "        '겨울왕국': 3.5,\n",
    "        '리빙라스베가스': 3.0,\n",
    "        '세계대전': 4.5,\n",
    "        '넘버3': 4.0,\n",
    "        '사랑과전쟁': 2.5,\n",
    "    },\n",
    "    '유성룡': {\n",
    "        '택시운전사': 3.0,\n",
    "        '겨울왕국': 4.0,\n",
    "        '리빙라스베가스': 2.0,\n",
    "        '넘버3': 3.0,\n",
    "        '세계대전': 3.5,\n",
    "        '사랑과전쟁': 2.0,\n",
    "    },\n",
    "    '이황': {\n",
    "        '택시운전사': 3.0,\n",
    "        '겨울왕국': 4.0,\n",
    "        '세계대전': 3.0,\n",
    "        '넘버3': 5.0,\n",
    "        '사랑과전쟁': 3.5,\n",
    "    },\n",
    "    '이이': {'겨울왕국': 4.5, '사랑과전쟁': 1.0,\n",
    "             '넘버3': 4.0},\n",
    "}"
   ]
  },
  {
   "cell_type": "code",
   "execution_count": 4,
   "metadata": {},
   "outputs": [
    {
     "data": {
      "text/plain": [
       "{'조용필': {'택시운전사': 2.5,\n",
       "  '겨울왕국': 3.5,\n",
       "  '리빙라스베가스': 3.0,\n",
       "  '넘버3': 3.5,\n",
       "  '사랑과전쟁': 2.5,\n",
       "  '세계대전': 3.0},\n",
       " 'BTS': {'택시운전사': 1.0,\n",
       "  '겨울왕국': 4.5,\n",
       "  '리빙라스베가스': 0.5,\n",
       "  '넘버3': 1.5,\n",
       "  '사랑과전쟁': 4.5,\n",
       "  '세계대전': 5.0},\n",
       " '강감찬': {'택시운전사': 3.0,\n",
       "  '겨울왕국': 3.5,\n",
       "  '리빙라스베가스': 1.5,\n",
       "  '넘버3': 5.0,\n",
       "  '세계대전': 3.0,\n",
       "  '사랑과전쟁': 3.5},\n",
       " '을지문덕': {'택시운전사': 2.5, '겨울왕국': 3.0, '넘버3': 3.5, '세계대전': 4.0},\n",
       " '김유신': {'겨울왕국': 3.5, '리빙라스베가스': 3.0, '세계대전': 4.5, '넘버3': 4.0, '사랑과전쟁': 2.5},\n",
       " '유성룡': {'택시운전사': 3.0,\n",
       "  '겨울왕국': 4.0,\n",
       "  '리빙라스베가스': 2.0,\n",
       "  '넘버3': 3.0,\n",
       "  '세계대전': 3.5,\n",
       "  '사랑과전쟁': 2.0},\n",
       " '이황': {'택시운전사': 3.0, '겨울왕국': 4.0, '세계대전': 3.0, '넘버3': 5.0, '사랑과전쟁': 3.5},\n",
       " '이이': {'겨울왕국': 4.5, '사랑과전쟁': 1.0, '넘버3': 4.0}}"
      ]
     },
     "execution_count": 4,
     "metadata": {},
     "output_type": "execute_result"
    }
   ],
   "source": [
    "critics"
   ]
  },
  {
   "cell_type": "code",
   "execution_count": 12,
   "metadata": {},
   "outputs": [
    {
     "data": {
      "text/plain": [
       "['택시운전사', '겨울왕국', '리빙라스베가스', '넘버3', '사랑과전쟁', '세계대전']"
      ]
     },
     "execution_count": 12,
     "metadata": {},
     "output_type": "execute_result"
    }
   ],
   "source": [
    "# 영화 목록 구하기\n",
    "\n",
    "movieList = []\n",
    "for name in critics:\n",
    "    for movie in critics[name]:\n",
    "        if movie in movieList:\n",
    "            pass\n",
    "        else:\n",
    "            movieList.append(movie)\n",
    "movieList"
   ]
  },
  {
   "cell_type": "code",
   "execution_count": 10,
   "metadata": {},
   "outputs": [],
   "source": [
    "# 사람 사이 유사도 구하기\n",
    "\n",
    "def sim_pearson(data, name1, name2):\n",
    "    sumx = 0    # X의 합\n",
    "    sumy = 0    # Y의 합\n",
    "    sumxy = 0    # XY의 합\n",
    "    sumx2 = 0    # X 제곱의 합\n",
    "    sumy2 = 0    # Y 제곱의 합\n",
    "    n = 0    # 영화 개수\n",
    "    for movie in data[name1]:\n",
    "        if movie in data[name2]:\n",
    "            sumx += data[name1][movie]\n",
    "            sumy += data[name2][movie]\n",
    "            sumxy += data[name1][movie] * data[name2][movie]\n",
    "            sumx2 += pow(data[name1][movie], 2)\n",
    "            sumy2 += pow(data[name2][movie], 2)\n",
    "            n += 1\n",
    "    return (sumxy - ((sumx * sumy) / n)) / sqrt((sumx2 - (pow(sumx,2) / n)) * (sumy2 - (pow(sumy,2) / n)))"
   ]
  },
  {
   "cell_type": "code",
   "execution_count": 24,
   "metadata": {},
   "outputs": [],
   "source": [
    "# 영화 추천 함수\n",
    "\n",
    "def movieRec(data, name):\n",
    "    recList = []\n",
    "    \n",
    "    for movie in movieList:\n",
    "        sumPredicScore = 0\n",
    "        sumSimilarity = 0\n",
    "        if movie not in data[name]:    # 타겟 사람이 안 본 영화라면\n",
    "            for other in data:\n",
    "                if other != name:    # 목록에 있는 다른 사람들 중에\n",
    "                    if movie in data[other]:    # 해당 영화를 봤다면\n",
    "                        sim = sim_pearson(data, name, other)    # 두 사람의 유사도\n",
    "                        predicScore = sim * data[other][movie]    # 타겟 예상점수 = 유사도 * 다른사람 평점\n",
    "                        sumPredicScore += predicScore\n",
    "                        sumSimilarity += sim\n",
    "            recList.append((sumPredicScore/sumSimilarity, movie))    # (예상점수 총합, 영화 제목)\n",
    "    recList.sort()\n",
    "    recList.reverse()\n",
    "    return recList[0][1]"
   ]
  },
  {
   "cell_type": "code",
   "execution_count": 25,
   "metadata": {},
   "outputs": [
    {
     "data": {
      "text/plain": [
       "'택시운전사'"
      ]
     },
     "execution_count": 25,
     "metadata": {},
     "output_type": "execute_result"
    }
   ],
   "source": [
    "movieRec(critics, \"이이\")"
   ]
  }
 ],
 "metadata": {
  "kernelspec": {
   "display_name": "Python 3",
   "language": "python",
   "name": "python3"
  },
  "language_info": {
   "codemirror_mode": {
    "name": "ipython",
    "version": 3
   },
   "file_extension": ".py",
   "mimetype": "text/x-python",
   "name": "python",
   "nbconvert_exporter": "python",
   "pygments_lexer": "ipython3",
   "version": "3.7.3"
  }
 },
 "nbformat": 4,
 "nbformat_minor": 2
}
