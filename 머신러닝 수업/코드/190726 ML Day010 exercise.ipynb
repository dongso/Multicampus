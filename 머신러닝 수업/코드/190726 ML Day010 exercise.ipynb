{
 "cells": [
  {
   "cell_type": "markdown",
   "metadata": {},
   "source": [
    "# 연습문제 1"
   ]
  },
  {
   "cell_type": "code",
   "execution_count": 1,
   "metadata": {},
   "outputs": [],
   "source": [
    "apple = 100\n",
    "appleNum = 2\n",
    "orange = 150\n",
    "orangeNum = 3\n",
    "tax = 1.1"
   ]
  },
  {
   "cell_type": "code",
   "execution_count": 3,
   "metadata": {},
   "outputs": [],
   "source": [
    "class MulLayer:\n",
    "    \n",
    "    def __init__(self):\n",
    "        self.x = None\n",
    "        self.y = None\n",
    "        \n",
    "    def forward(self, x, y):\n",
    "        self.x = x\n",
    "        self.y = y\n",
    "        out = x * y\n",
    "        return out\n",
    "    \n",
    "    def backward(self, dout):\n",
    "        dx = dout * self.y\n",
    "        dy = dout * self.x\n",
    "        return dx, dy"
   ]
  },
  {
   "cell_type": "code",
   "execution_count": 4,
   "metadata": {},
   "outputs": [],
   "source": [
    "mal = MulLayer()\n",
    "mol = MulLayer()\n",
    "mtl = MulLayer()"
   ]
  },
  {
   "cell_type": "code",
   "execution_count": 6,
   "metadata": {},
   "outputs": [
    {
     "name": "stdout",
     "output_type": "stream",
     "text": [
      "price:  715\n"
     ]
    }
   ],
   "source": [
    "apple_price = mal.forward(apple, appleNum)\n",
    "orange_price = mol.forward(orange, orangeNum)\n",
    "price = mtl.forward(apple_price + orange_price, tax)\n",
    "print(\"price: \", int(price))"
   ]
  },
  {
   "cell_type": "code",
   "execution_count": 14,
   "metadata": {},
   "outputs": [
    {
     "name": "stdout",
     "output_type": "stream",
     "text": [
      "d_tax:  650\n",
      "d_apple:  2.2\n",
      "d_appleNum:  110.00000000000001\n",
      "d_orange:  3.3000000000000003\n",
      "d_orangeNum:  165.0\n"
     ]
    }
   ],
   "source": [
    "dprice = 1\n",
    "d_apple_orange_price, d_tax = mtl.backward(dprice)\n",
    "d_apple_price, d_orange_price = [d_apple_orange_price] * 2\n",
    "d_apple, d_appleNum = mal.backward(d_apple_price)\n",
    "d_orange, d_orangeNum = mol.backward(d_orange_price)\n",
    "print(\"d_tax: \", d_tax)\n",
    "print(\"d_apple: \", d_apple)\n",
    "print(\"d_appleNum: \", d_appleNum)\n",
    "print(\"d_orange: \", d_orange)\n",
    "print(\"d_orangeNum: \", d_orangeNum)"
   ]
  },
  {
   "cell_type": "markdown",
   "metadata": {},
   "source": [
    "# 연습문제 2"
   ]
  },
  {
   "cell_type": "code",
   "execution_count": 15,
   "metadata": {},
   "outputs": [],
   "source": [
    "import tensorflow as tf"
   ]
  },
  {
   "cell_type": "code",
   "execution_count": 20,
   "metadata": {},
   "outputs": [],
   "source": [
    "def ggd(n):\n",
    "    iNum = n\n",
    "    x = tf.placeholder(dtype=tf.int32)\n",
    "    frame = tf.constant([1, 2, 3, 4, 5, 6, 7, 8, 9], dtype=tf.int32)\n",
    "    y = frame * x\n",
    "    sess = tf.Session()\n",
    "    sess.run(y, feed_dict={x:n})\n",
    "    print(n, \" x 1 = \", sess.run(y, feed_dict={x:n})[0])\n",
    "    print(n, \" x 2 = \", sess.run(y, feed_dict={x:n})[1])\n",
    "    print(n, \" x 3 = \", sess.run(y, feed_dict={x:n})[2])\n",
    "    print(n, \" x 4 = \", sess.run(y, feed_dict={x:n})[3])\n",
    "    print(n, \" x 5 = \", sess.run(y, feed_dict={x:n})[4])\n",
    "    print(n, \" x 6 = \", sess.run(y, feed_dict={x:n})[5])\n",
    "    print(n, \" x 7 = \", sess.run(y, feed_dict={x:n})[6])\n",
    "    print(n, \" x 8 = \", sess.run(y, feed_dict={x:n})[7])\n",
    "    print(n, \" x 9 = \", sess.run(y, feed_dict={x:n})[8])"
   ]
  },
  {
   "cell_type": "code",
   "execution_count": 21,
   "metadata": {},
   "outputs": [
    {
     "name": "stdout",
     "output_type": "stream",
     "text": [
      "7  x 1 =  7\n",
      "7  x 2 =  14\n",
      "7  x 3 =  21\n",
      "7  x 4 =  28\n",
      "7  x 5 =  35\n",
      "7  x 6 =  42\n",
      "7  x 7 =  49\n",
      "7  x 8 =  56\n",
      "7  x 9 =  63\n"
     ]
    }
   ],
   "source": [
    "ggd(7)"
   ]
  }
 ],
 "metadata": {
  "kernelspec": {
   "display_name": "Python 3",
   "language": "python",
   "name": "python3"
  },
  "language_info": {
   "codemirror_mode": {
    "name": "ipython",
    "version": 3
   },
   "file_extension": ".py",
   "mimetype": "text/x-python",
   "name": "python",
   "nbconvert_exporter": "python",
   "pygments_lexer": "ipython3",
   "version": "3.7.3"
  }
 },
 "nbformat": 4,
 "nbformat_minor": 2
}
