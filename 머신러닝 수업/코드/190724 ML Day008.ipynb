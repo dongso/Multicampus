{
 "cells": [
  {
   "cell_type": "code",
   "execution_count": 1,
   "metadata": {},
   "outputs": [],
   "source": [
    "import numpy as np"
   ]
  },
  {
   "cell_type": "markdown",
   "metadata": {},
   "source": [
    "논리 연산 문제"
   ]
  },
  {
   "cell_type": "code",
   "execution_count": 3,
   "metadata": {},
   "outputs": [
    {
     "name": "stdout",
     "output_type": "stream",
     "text": [
      "(0, 0) --> 0\n",
      "(0, 1) --> 0\n",
      "(1, 0) --> 0\n",
      "(1, 1) --> 1\n"
     ]
    }
   ],
   "source": [
    "def AND(x1, x2):\n",
    "    x = np.array([x1, x2])\n",
    "    w = np.array([0.5, 0.5])    # 원래는 학습의 결과로 얻어진다\n",
    "    b = -0.7    # 원래는 학습의 결과로 얻어진다\n",
    "    hf = np.sum(w*x)+b\n",
    "    # 모델 (hf = w1x1+w2x2+b)\n",
    "    if hf <= 0:\n",
    "        return 0\n",
    "    else:\n",
    "        return 1\n",
    "\n",
    "for xs in [(0, 0), (0, 1), (1, 0), (1, 1)]:\n",
    "    y = AND(xs[0], xs[1])    # y는 모델이 예측한 값\n",
    "    print(str(xs) + \" --> \" + str(y))"
   ]
  },
  {
   "cell_type": "code",
   "execution_count": 4,
   "metadata": {},
   "outputs": [
    {
     "name": "stdout",
     "output_type": "stream",
     "text": [
      "(0, 0) --> 0\n",
      "(0, 1) --> 1\n",
      "(1, 0) --> 1\n",
      "(1, 1) --> 1\n"
     ]
    }
   ],
   "source": [
    "def OR(x1, x2):\n",
    "    x = np.array([x1, x2])\n",
    "    w = np.array([0.5, 0.5])    # 원래는 학습의 결과로 얻어진다\n",
    "    b = -0.2    # 원래는 학습의 결과로 얻어진다\n",
    "    hf = np.sum(w*x)+b\n",
    "    # 모델 (hf = w1x1+w2x2+b)\n",
    "    if hf <= 0:\n",
    "        return 0\n",
    "    else:\n",
    "        return 1\n",
    "\n",
    "for xs in [(0, 0), (0, 1), (1, 0), (1, 1)]:\n",
    "    y = OR(xs[0], xs[1])    # y는 모델이 예측한 값\n",
    "    print(str(xs) + \" --> \" + str(y))"
   ]
  },
  {
   "cell_type": "code",
   "execution_count": 5,
   "metadata": {},
   "outputs": [
    {
     "name": "stdout",
     "output_type": "stream",
     "text": [
      "(0, 0) --> 1\n",
      "(0, 1) --> 1\n",
      "(1, 0) --> 1\n",
      "(1, 1) --> 0\n"
     ]
    }
   ],
   "source": [
    "def NAND(x1, x2):    # NAND = Not AND\n",
    "    x = np.array([x1, x2])\n",
    "    w = np.array([-0.5, -0.5])    # 원래는 학습의 결과로 얻어진다\n",
    "    b = 0.7    # 원래는 학습의 결과로 얻어진다\n",
    "    hf = np.sum(w*x)+b\n",
    "    # 모델 (hf = w1x1+w2x2+b)\n",
    "    if hf <= 0:\n",
    "        return 0\n",
    "    else:\n",
    "        return 1\n",
    "\n",
    "for xs in [(0, 0), (0, 1), (1, 0), (1, 1)]:\n",
    "    y = NAND(xs[0], xs[1])    # y는 모델이 예측한 값\n",
    "    print(str(xs) + \" --> \" + str(y))"
   ]
  },
  {
   "cell_type": "code",
   "execution_count": 6,
   "metadata": {},
   "outputs": [
    {
     "name": "stdout",
     "output_type": "stream",
     "text": [
      "0\n",
      "1\n",
      "1\n",
      "0\n"
     ]
    }
   ],
   "source": [
    "def XOR(x1, x2):\n",
    "    y = AND(NAND(x1, x2), OR(x1, x2))\n",
    "    return y    # y는 x1, x2 입력에 따른 XOR 연산의 결과\n",
    "\n",
    "print(XOR(0, 0))    # 0 출력\n",
    "print(XOR(0, 1))    # 1 출력\n",
    "print(XOR(1, 0))    # 1 출력\n",
    "print(XOR(1, 1))    # 0 출력"
   ]
  }
 ],
 "metadata": {
  "kernelspec": {
   "display_name": "Python 3",
   "language": "python",
   "name": "python3"
  },
  "language_info": {
   "codemirror_mode": {
    "name": "ipython",
    "version": 3
   },
   "file_extension": ".py",
   "mimetype": "text/x-python",
   "name": "python",
   "nbconvert_exporter": "python",
   "pygments_lexer": "ipython3",
   "version": "3.7.3"
  }
 },
 "nbformat": 4,
 "nbformat_minor": 2
}
